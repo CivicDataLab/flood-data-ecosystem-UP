{
 "cells": [
  {
   "cell_type": "code",
   "execution_count": 3,
   "id": "4b160ce2",
   "metadata": {},
   "outputs": [],
   "source": [
    "import rasterstats\n",
    "import rasterio\n",
    "import geopandas as gpd\n",
    "import pandas as pd\n",
    "import os\n",
    "import glob\n",
    "import numpy as np\n",
    "import time\n",
    "import sys"
   ]
  },
  {
   "cell_type": "code",
   "execution_count": 8,
   "id": "3b570a97",
   "metadata": {},
   "outputs": [],
   "source": [
    "odisha_rc_gdf = gpd.read_file('/home/krishna/IDS-DRR-Pipeline/ODISHA/assets/Odisha_Maps/subdistricts_479_osm.shp')"
   ]
  },
  {
   "cell_type": "code",
   "execution_count": 1,
   "id": "76708eba",
   "metadata": {},
   "outputs": [],
   "source": [
    "def count_nonzero(x):\n",
    "    return np.count_nonzero(x.compressed())"
   ]
  },
  {
   "cell_type": "code",
   "execution_count": 4,
   "id": "44fd3842",
   "metadata": {},
   "outputs": [],
   "source": [
    "raster = rasterio.open('stitched_2020_05.tif')"
   ]
  },
  {
   "cell_type": "code",
   "execution_count": 5,
   "id": "2724df8e",
   "metadata": {},
   "outputs": [],
   "source": [
    "raster_array = raster.read()"
   ]
  },
  {
   "cell_type": "code",
   "execution_count": 7,
   "id": "0b8ef15d",
   "metadata": {},
   "outputs": [
    {
     "ename": "NameError",
     "evalue": "name 'assam_rc_gdf' is not defined",
     "output_type": "error",
     "traceback": [
      "\u001b[0;31m---------------------------------------------------------------------------\u001b[0m",
      "\u001b[0;31mNameError\u001b[0m                                 Traceback (most recent call last)",
      "\u001b[0;32m/tmp/ipykernel_80308/806168555.py\u001b[0m in \u001b[0;36m<module>\u001b[0;34m\u001b[0m\n\u001b[0;32m----> 1\u001b[0;31m mean_dicts = rasterstats.zonal_stats(assam_rc_gdf.to_crs(raster.crs),\n\u001b[0m\u001b[1;32m      2\u001b[0m                                      \u001b[0mraster_array\u001b[0m\u001b[0;34m,\u001b[0m\u001b[0;34m\u001b[0m\u001b[0;34m\u001b[0m\u001b[0m\n\u001b[1;32m      3\u001b[0m                                      \u001b[0maffine\u001b[0m\u001b[0;34m=\u001b[0m \u001b[0mraster\u001b[0m\u001b[0;34m.\u001b[0m\u001b[0mtransform\u001b[0m\u001b[0;34m,\u001b[0m\u001b[0;34m\u001b[0m\u001b[0;34m\u001b[0m\u001b[0m\n\u001b[1;32m      4\u001b[0m                                      \u001b[0mstats\u001b[0m\u001b[0;34m=\u001b[0m \u001b[0;34m[\u001b[0m\u001b[0;34m'count'\u001b[0m\u001b[0;34m]\u001b[0m\u001b[0;34m,\u001b[0m\u001b[0;34m\u001b[0m\u001b[0;34m\u001b[0m\u001b[0m\n\u001b[1;32m      5\u001b[0m                                      \u001b[0mnodata\u001b[0m\u001b[0;34m=\u001b[0m\u001b[0mraster\u001b[0m\u001b[0;34m.\u001b[0m\u001b[0mnodata\u001b[0m\u001b[0;34m,\u001b[0m\u001b[0;34m\u001b[0m\u001b[0;34m\u001b[0m\u001b[0m\n",
      "\u001b[0;31mNameError\u001b[0m: name 'assam_rc_gdf' is not defined"
     ]
    }
   ],
   "source": [
    "mean_dicts = rasterstats.zonal_stats(odisha_rc_gdf.to_crs(raster.crs),\n",
    "                                     raster_array,\n",
    "                                     affine= raster.transform,\n",
    "                                     stats= ['count'],\n",
    "                                     nodata=raster.nodata,\n",
    "                                     add_stats={'count_nonzero':count_nonzero},\n",
    "                                     geojson_out = True,\n",
    "                                     )"
   ]
  },
  {
   "cell_type": "code",
   "execution_count": 10,
   "id": "113e603c",
   "metadata": {},
   "outputs": [
    {
     "data": {
      "text/plain": [
       "0"
      ]
     },
     "execution_count": 10,
     "metadata": {},
     "output_type": "execute_result"
    }
   ],
   "source": [
    "raster_array.max()"
   ]
  },
  {
   "cell_type": "code",
   "execution_count": 11,
   "id": "ee35063e",
   "metadata": {},
   "outputs": [],
   "source": [
    "raster.close()"
   ]
  },
  {
   "cell_type": "code",
   "execution_count": null,
   "id": "68ab646d",
   "metadata": {},
   "outputs": [],
   "source": []
  }
 ],
 "metadata": {
  "kernelspec": {
   "display_name": "Python 3 (ipykernel)",
   "language": "python",
   "name": "python3"
  },
  "language_info": {
   "codemirror_mode": {
    "name": "ipython",
    "version": 3
   },
   "file_extension": ".py",
   "mimetype": "text/x-python",
   "name": "python",
   "nbconvert_exporter": "python",
   "pygments_lexer": "ipython3",
   "version": "3.9.13"
  }
 },
 "nbformat": 4,
 "nbformat_minor": 5
}
